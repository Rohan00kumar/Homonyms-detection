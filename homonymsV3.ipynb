{
 "cells": [
  {
   "cell_type": "code",
   "execution_count": 5,
   "metadata": {},
   "outputs": [],
   "source": [
    "import pandas as pd\n",
    "import numpy as np\n",
    "\n",
    "# Load raw data\n",
    "data = pd.read_csv('data.csv')"
   ]
  },
  {
   "cell_type": "code",
   "execution_count": 7,
   "metadata": {},
   "outputs": [],
   "source": [
    "# Step 1: Add essential columns\n",
    "# Popularity = Number of ratings * average rating\n",
    "data['popularity'] = data.groupby('movieId')['rating'].transform(\n",
    "    'count') * data.groupby('movieId')['rating'].transform('mean')"
   ]
  },
  {
   "cell_type": "code",
   "execution_count": 8,
   "metadata": {},
   "outputs": [],
   "source": [
    "# Example additional columns (replace with actual data source if available)\n",
    "# For demonstration purposes, we use placeholders\n",
    "# Random runtime between 80 and 180 minutes\n",
    "data['runtime'] = np.random.randint(80, 180, size=len(data))\n",
    "data['director'] = ['Director ' + str(i) for i in range(len(data))]\n",
    "data['actors'] = ['Actor ' + str(i) + ', Actor ' + str(i + 1)\n",
    "                  for i in range(len(data))]\n",
    "data['language'] = np.random.choice(\n",
    "    ['English', 'Spanish', 'French', 'German'], size=len(data))\n",
    "data['country'] = np.random.choice(\n",
    "    ['USA', 'UK', 'France', 'Germany'], size=len(data))\n",
    "data['budget'] = np.random.randint(1_000_000, 200_000_000, size=len(data))\n",
    "data['revenue'] = data['budget'] * np.random.uniform(0.5, 5, size=len(data))"
   ]
  },
  {
   "cell_type": "code",
   "execution_count": 10,
   "metadata": {},
   "outputs": [],
   "source": [
    "# Handle missing values (replace with appropriate values or drop)\n",
    "data2['rating'].fillna(data2['rating'].mean(), inplace=True)\n",
    "data2['genres'].fillna('Unknown', inplace=True)\n",
    "data2['tag'].fillna('None', inplace=True)\n",
    "data2['director'].fillna('Unknown', inplace=True)\n",
    "data2['actors'].fillna('Unknown', inplace=True)\n",
    "data2['language'].fillna('Unknown', inplace=True)\n",
    "data2['country'].fillna('Unknown', inplace=True)\n",
    "data2['budget'].fillna(data2['budget'].mean(), inplace=True)\n",
    "data2['revenue'].fillna(data2['revenue'].mean(), inplace=True)"
   ]
  },
  {
   "cell_type": "code",
   "execution_count": 11,
   "metadata": {},
   "outputs": [],
   "source": [
    "# Remove unnecessary columns\n",
    "data2.drop(['imdbId', 'month', 'day'], axis=1, inplace=True)"
   ]
  },
  {
   "cell_type": "code",
   "execution_count": 12,
   "metadata": {},
   "outputs": [],
   "source": [
    "# Step 3: Optimize memory usage\n",
    "# Downcast numeric data types to reduce memory\n",
    "data2['movieId'] = pd.to_numeric(data2['movieId'], downcast='integer')\n",
    "data2['year'] = pd.to_numeric(data2['year'], downcast='integer')\n",
    "data2['rating'] = pd.to_numeric(data2['rating'], downcast='float')\n",
    "data2['popularity'] = pd.to_numeric(data2['popularity'], downcast='float')\n",
    "data2['runtime'] = pd.to_numeric(data2['runtime'], downcast='integer')\n",
    "data2['budget'] = pd.to_numeric(data2['budget'], downcast='integer')\n",
    "data2['revenue'] = pd.to_numeric(data2['revenue'], downcast='integer')"
   ]
  },
  {
   "cell_type": "code",
   "execution_count": 25,
   "metadata": {},
   "outputs": [],
   "source": [
    "# Step 4: Save cleaned data\n",
    "data2.to_csv('cleaned_data.csv', index=False)"
   ]
  },
  {
   "cell_type": "code",
   "execution_count": 26,
   "metadata": {},
   "outputs": [
    {
     "name": "stdout",
     "output_type": "stream",
     "text": [
      "Cleaned Data Info:\n",
      "<class 'pandas.core.frame.DataFrame'>\n",
      "Index: 9724 entries, 70997 to 281007\n",
      "Data columns (total 18 columns):\n",
      " #   Column      Non-Null Count  Dtype  \n",
      "---  ------      --------------  -----  \n",
      " 0   movieId     9724 non-null   int64  \n",
      " 1   rating      9724 non-null   float64\n",
      " 2   title       9724 non-null   object \n",
      " 3   genres      9724 non-null   object \n",
      " 4   tag         1554 non-null   object \n",
      " 5   imdbId      9724 non-null   int64  \n",
      " 6   metadata    1554 non-null   object \n",
      " 7   year        9724 non-null   int64  \n",
      " 8   month       9724 non-null   int64  \n",
      " 9   day         9724 non-null   int64  \n",
      " 10  popularity  9724 non-null   float64\n",
      " 11  runtime     9724 non-null   int32  \n",
      " 12  director    9724 non-null   object \n",
      " 13  actors      9724 non-null   object \n",
      " 14  language    9724 non-null   object \n",
      " 15  country     9724 non-null   object \n",
      " 16  budget      9724 non-null   int32  \n",
      " 17  revenue     9724 non-null   float64\n",
      "dtypes: float64(3), int32(2), int64(5), object(8)\n",
      "memory usage: 1.3+ MB\n",
      "None\n"
     ]
    }
   ],
   "source": [
    "# Display cleaned data info\n",
    "print(\"Cleaned Data Info:\")\n",
    "print(data2.info())"
   ]
  },
  {
   "cell_type": "code",
   "execution_count": 27,
   "metadata": {},
   "outputs": [
    {
     "name": "stdout",
     "output_type": "stream",
     "text": [
      "\n",
      "Cleaned Data Sample:\n"
     ]
    },
    {
     "data": {
      "text/html": [
       "<div>\n",
       "<style scoped>\n",
       "    .dataframe tbody tr th:only-of-type {\n",
       "        vertical-align: middle;\n",
       "    }\n",
       "\n",
       "    .dataframe tbody tr th {\n",
       "        vertical-align: top;\n",
       "    }\n",
       "\n",
       "    .dataframe thead th {\n",
       "        text-align: right;\n",
       "    }\n",
       "</style>\n",
       "<table border=\"1\" class=\"dataframe\">\n",
       "  <thead>\n",
       "    <tr style=\"text-align: right;\">\n",
       "      <th></th>\n",
       "      <th>movieId</th>\n",
       "      <th>rating</th>\n",
       "      <th>title</th>\n",
       "      <th>genres</th>\n",
       "      <th>tag</th>\n",
       "      <th>imdbId</th>\n",
       "      <th>metadata</th>\n",
       "      <th>year</th>\n",
       "      <th>month</th>\n",
       "      <th>day</th>\n",
       "      <th>popularity</th>\n",
       "      <th>runtime</th>\n",
       "      <th>director</th>\n",
       "      <th>actors</th>\n",
       "      <th>language</th>\n",
       "      <th>country</th>\n",
       "      <th>budget</th>\n",
       "      <th>revenue</th>\n",
       "    </tr>\n",
       "  </thead>\n",
       "  <tbody>\n",
       "    <tr>\n",
       "      <th>70997</th>\n",
       "      <td>356</td>\n",
       "      <td>5.0</td>\n",
       "      <td>forrest gump (1994)</td>\n",
       "      <td>comedy|drama|romance|war</td>\n",
       "      <td>shrimp</td>\n",
       "      <td>109830</td>\n",
       "      <td>forrest gump (1994) comedy|drama|romance|war s...</td>\n",
       "      <td>1970</td>\n",
       "      <td>1</td>\n",
       "      <td>1</td>\n",
       "      <td>12330.0</td>\n",
       "      <td>171</td>\n",
       "      <td>Director 70997</td>\n",
       "      <td>Actor 70997, Actor 70998</td>\n",
       "      <td>German</td>\n",
       "      <td>Germany</td>\n",
       "      <td>82809786</td>\n",
       "      <td>9.602091e+07</td>\n",
       "    </tr>\n",
       "    <tr>\n",
       "      <th>215705</th>\n",
       "      <td>1221</td>\n",
       "      <td>5.0</td>\n",
       "      <td>godfather: part ii, the (1974)</td>\n",
       "      <td>crime|drama</td>\n",
       "      <td>mafia</td>\n",
       "      <td>71562</td>\n",
       "      <td>godfather: part ii, the (1974) crime|drama mafia</td>\n",
       "      <td>1970</td>\n",
       "      <td>1</td>\n",
       "      <td>1</td>\n",
       "      <td>1648.5</td>\n",
       "      <td>159</td>\n",
       "      <td>Director 215705</td>\n",
       "      <td>Actor 215705, Actor 215706</td>\n",
       "      <td>French</td>\n",
       "      <td>Germany</td>\n",
       "      <td>111245667</td>\n",
       "      <td>5.315133e+08</td>\n",
       "    </tr>\n",
       "    <tr>\n",
       "      <th>215738</th>\n",
       "      <td>1228</td>\n",
       "      <td>5.0</td>\n",
       "      <td>raging bull (1980)</td>\n",
       "      <td>drama</td>\n",
       "      <td>boxing</td>\n",
       "      <td>81398</td>\n",
       "      <td>raging bull (1980) drama boxing</td>\n",
       "      <td>1970</td>\n",
       "      <td>1</td>\n",
       "      <td>1</td>\n",
       "      <td>167.5</td>\n",
       "      <td>124</td>\n",
       "      <td>Director 215738</td>\n",
       "      <td>Actor 215738, Actor 215739</td>\n",
       "      <td>French</td>\n",
       "      <td>France</td>\n",
       "      <td>168118042</td>\n",
       "      <td>3.972768e+08</td>\n",
       "    </tr>\n",
       "    <tr>\n",
       "      <th>161734</th>\n",
       "      <td>293</td>\n",
       "      <td>5.0</td>\n",
       "      <td>léon: the professional (a.k.a. the professiona...</td>\n",
       "      <td>action|crime|drama|thriller</td>\n",
       "      <td>assassin</td>\n",
       "      <td>110413</td>\n",
       "      <td>léon: the professional (a.k.a. the professiona...</td>\n",
       "      <td>1970</td>\n",
       "      <td>1</td>\n",
       "      <td>1</td>\n",
       "      <td>18707.5</td>\n",
       "      <td>102</td>\n",
       "      <td>Director 161734</td>\n",
       "      <td>Actor 161734, Actor 161735</td>\n",
       "      <td>French</td>\n",
       "      <td>USA</td>\n",
       "      <td>133254422</td>\n",
       "      <td>4.905661e+08</td>\n",
       "    </tr>\n",
       "    <tr>\n",
       "      <th>124190</th>\n",
       "      <td>74458</td>\n",
       "      <td>5.0</td>\n",
       "      <td>shutter island (2010)</td>\n",
       "      <td>drama|mystery|thriller</td>\n",
       "      <td>insanity</td>\n",
       "      <td>1130884</td>\n",
       "      <td>shutter island (2010) drama|mystery|thriller i...</td>\n",
       "      <td>1970</td>\n",
       "      <td>1</td>\n",
       "      <td>1</td>\n",
       "      <td>1886.5</td>\n",
       "      <td>146</td>\n",
       "      <td>Director 124190</td>\n",
       "      <td>Actor 124190, Actor 124191</td>\n",
       "      <td>German</td>\n",
       "      <td>France</td>\n",
       "      <td>166096243</td>\n",
       "      <td>3.065121e+08</td>\n",
       "    </tr>\n",
       "  </tbody>\n",
       "</table>\n",
       "</div>"
      ],
      "text/plain": [
       "        movieId  rating                                              title  \\\n",
       "70997       356     5.0                                forrest gump (1994)   \n",
       "215705     1221     5.0                     godfather: part ii, the (1974)   \n",
       "215738     1228     5.0                                 raging bull (1980)   \n",
       "161734      293     5.0  léon: the professional (a.k.a. the professiona...   \n",
       "124190    74458     5.0                              shutter island (2010)   \n",
       "\n",
       "                             genres       tag   imdbId  \\\n",
       "70997      comedy|drama|romance|war    shrimp   109830   \n",
       "215705                  crime|drama     mafia    71562   \n",
       "215738                        drama    boxing    81398   \n",
       "161734  action|crime|drama|thriller  assassin   110413   \n",
       "124190       drama|mystery|thriller  insanity  1130884   \n",
       "\n",
       "                                                 metadata  year  month  day  \\\n",
       "70997   forrest gump (1994) comedy|drama|romance|war s...  1970      1    1   \n",
       "215705   godfather: part ii, the (1974) crime|drama mafia  1970      1    1   \n",
       "215738                    raging bull (1980) drama boxing  1970      1    1   \n",
       "161734  léon: the professional (a.k.a. the professiona...  1970      1    1   \n",
       "124190  shutter island (2010) drama|mystery|thriller i...  1970      1    1   \n",
       "\n",
       "        popularity  runtime         director                      actors  \\\n",
       "70997      12330.0      171   Director 70997    Actor 70997, Actor 70998   \n",
       "215705      1648.5      159  Director 215705  Actor 215705, Actor 215706   \n",
       "215738       167.5      124  Director 215738  Actor 215738, Actor 215739   \n",
       "161734     18707.5      102  Director 161734  Actor 161734, Actor 161735   \n",
       "124190      1886.5      146  Director 124190  Actor 124190, Actor 124191   \n",
       "\n",
       "       language  country     budget       revenue  \n",
       "70997    German  Germany   82809786  9.602091e+07  \n",
       "215705   French  Germany  111245667  5.315133e+08  \n",
       "215738   French   France  168118042  3.972768e+08  \n",
       "161734   French      USA  133254422  4.905661e+08  \n",
       "124190   German   France  166096243  3.065121e+08  "
      ]
     },
     "execution_count": 27,
     "metadata": {},
     "output_type": "execute_result"
    }
   ],
   "source": [
    "# Display cleaned data sample\n",
    "print(\"\\nCleaned Data Sample:\")\n",
    "data2.head()"
   ]
  },
  {
   "cell_type": "markdown",
   "metadata": {},
   "source": [
    "## Clean Code"
   ]
  },
  {
   "cell_type": "code",
   "execution_count": 4,
   "metadata": {},
   "outputs": [],
   "source": [
    "import pandas as pd\n",
    "import numpy as np\n",
    "from sklearn.feature_extraction.text import TfidfVectorizer\n",
    "from sklearn.mixture import GaussianMixture\n",
    "from sklearn.metrics.pairwise import cosine_similarity\n",
    "from sklearn.metrics import f1_score, precision_score, recall_score"
   ]
  },
  {
   "cell_type": "code",
   "execution_count": 31,
   "metadata": {},
   "outputs": [],
   "source": [
    "# Step 1: Load and Clean Data\n",
    "data = pd.read_csv('data.csv')"
   ]
  },
  {
   "cell_type": "code",
   "execution_count": 32,
   "metadata": {},
   "outputs": [],
   "source": [
    "# Add additional features\n",
    "data['popularity'] = data.groupby('movieId')['rating'].transform(\n",
    "    'count') * data.groupby('movieId')['rating'].transform('mean')\n",
    "data['runtime'] = np.random.randint(80, 180, size=len(data))\n",
    "data['director'] = ['Director ' + str(i) for i in range(len(data))]\n",
    "data['actors'] = ['Actor ' + str(i) + ', Actor ' + str(i + 1)\n",
    "                  for i in range(len(data))]\n",
    "data['language'] = np.random.choice(\n",
    "    ['English', 'Spanish', 'French', 'German'], size=len(data))\n",
    "data['country'] = np.random.choice(\n",
    "    ['USA', 'UK', 'France', 'Germany'], size=len(data))\n",
    "data['budget'] = np.random.randint(1_000_000, 200_000_000, size=len(data))\n",
    "data['revenue'] = data['budget'] * np.random.uniform(0.5, 5, size=len(data))"
   ]
  },
  {
   "cell_type": "code",
   "execution_count": 33,
   "metadata": {},
   "outputs": [],
   "source": [
    "# Clean Data\n",
    "data = data.drop_duplicates()\n",
    "data['rating'].fillna(data['rating'].mean(), inplace=True)\n",
    "data['genres'].fillna('Unknown', inplace=True)\n",
    "data['tag'].fillna('None', inplace=True)\n",
    "data['director'].fillna('Unknown', inplace=True)\n",
    "data['actors'].fillna('Unknown', inplace=True)\n",
    "data['language'].fillna('Unknown', inplace=True)\n",
    "data['country'].fillna('Unknown', inplace=True)\n",
    "data['budget'].fillna(data['budget'].mean(), inplace=True)\n",
    "data['revenue'].fillna(data['revenue'].mean(), inplace=True)"
   ]
  },
  {
   "cell_type": "code",
   "execution_count": 34,
   "metadata": {},
   "outputs": [],
   "source": [
    "# Drop unnecessary columns\n",
    "data.drop(['imdbId', 'month', 'day'], axis=1, inplace=True)"
   ]
  },
  {
   "cell_type": "code",
   "execution_count": 35,
   "metadata": {},
   "outputs": [],
   "source": [
    "# Optimize memory\n",
    "data['movieId'] = pd.to_numeric(data['movieId'], downcast='integer')\n",
    "data['year'] = pd.to_numeric(data['year'], downcast='integer')\n",
    "data['rating'] = pd.to_numeric(data['rating'], downcast='float')\n",
    "data['popularity'] = pd.to_numeric(data['popularity'], downcast='float')\n",
    "data['runtime'] = pd.to_numeric(data['runtime'], downcast='integer')\n",
    "data['budget'] = pd.to_numeric(data['budget'], downcast='integer')\n",
    "data['revenue'] = pd.to_numeric(data['revenue'], downcast='integer')"
   ]
  },
  {
   "cell_type": "code",
   "execution_count": 36,
   "metadata": {},
   "outputs": [],
   "source": [
    "# Save cleaned data\n",
    "data.to_csv('cleaned_data.csv', index=False)"
   ]
  },
  {
   "cell_type": "code",
   "execution_count": 5,
   "metadata": {},
   "outputs": [],
   "source": [
    "data = pd.read_csv('cleaned_data.csv')"
   ]
  },
  {
   "cell_type": "code",
   "execution_count": 7,
   "metadata": {},
   "outputs": [],
   "source": [
    "# Step 2: Vectorize Metadata Using TF-IDF\n",
    "data['metadata'] = data['title'] + ' ' + data['genres'] + ' ' + data['tag']\n",
    "vectorizer = TfidfVectorizer(max_features=5000)\n",
    "X = vectorizer.fit_transform(data['metadata'].astype(str))"
   ]
  },
  {
   "cell_type": "code",
   "execution_count": 8,
   "metadata": {},
   "outputs": [
    {
     "name": "stderr",
     "output_type": "stream",
     "text": [
      "c:\\Users\\hp\\AppData\\Local\\Programs\\Python\\Python39\\lib\\site-packages\\sklearn\\cluster\\_kmeans.py:1934: FutureWarning: The default value of `n_init` will change from 3 to 'auto' in 1.4. Set the value of `n_init` explicitly to suppress the warning\n",
      "  super()._check_params_vs_input(X, default_n_init=3)\n"
     ]
    },
    {
     "name": "stdout",
     "output_type": "stream",
     "text": [
      "Clustering Completed Successfully!\n"
     ]
    }
   ],
   "source": [
    "from sklearn.cluster import MiniBatchKMeans\n",
    "\n",
    "# Step 3: Use MiniBatchKMeans for Clustering\n",
    "kmeans = MiniBatchKMeans(n_clusters=10, batch_size=100, random_state=42)\n",
    "data['cluster'] = kmeans.fit_predict(X)\n",
    "\n",
    "print(\"Clustering Completed Successfully!\")"
   ]
  },
  {
   "cell_type": "code",
   "execution_count": 9,
   "metadata": {},
   "outputs": [],
   "source": [
    "# Step 4: Homonym Resolution\n",
    "def resolve_homonym(query):\n",
    "    choices = data['title'].unique()\n",
    "    return min(choices, key=lambda x: abs(len(x) - len(query)))"
   ]
  },
  {
   "cell_type": "code",
   "execution_count": 11,
   "metadata": {},
   "outputs": [],
   "source": [
    "# Step 5: Recommendation System\n",
    "def recommend(query):\n",
    "    query = resolve_homonym(query)\n",
    "    query_vector = vectorizer.transform([query])\n",
    "\n",
    "    # Predict cluster\n",
    "    cluster = gmm.predict(query_vector.toarray())[0]\n",
    "\n",
    "    # Cold Start Problem Handling\n",
    "    if cluster not in data['cluster'].unique():\n",
    "        print(\n",
    "            f\"No cluster found for query '{query}'. Suggesting top-rated items instead.\")\n",
    "        top_items = data.sort_values(\n",
    "            by=['rating', 'popularity'], ascending=[False, False]).head(5)\n",
    "        return top_items[['title', 'genres', 'year', 'rating', 'popularity']]\n",
    "\n",
    "    # Filter by Cluster\n",
    "    cluster_items = data[data['cluster'] == cluster]\n",
    "\n",
    "    if cluster_items.empty:\n",
    "        # Cold Start Fallback\n",
    "        print(\"No similar items found. Suggesting top-rated items.\")\n",
    "        top_items = data.sort_values(\n",
    "            by=['rating', 'popularity'], ascending=[False, False]).head(5)\n",
    "        return top_items[['title', 'genres', 'year', 'rating', 'popularity']]\n",
    "\n",
    "    # Calculate Similarity\n",
    "    similarity = cosine_similarity(\n",
    "        query_vector, X[cluster_items.index]).flatten()\n",
    "    cluster_items = cluster_items.assign(similarity=similarity)\n",
    "\n",
    "    # Improve relevance using rating and popularity\n",
    "    cluster_items['score'] = (cluster_items['similarity'] * 0.5) + (\n",
    "        cluster_items['rating'] * 0.3) + (cluster_items['popularity'] * 0.2)\n",
    "\n",
    "    # Sort and remove duplicates\n",
    "    recommendations = cluster_items.sort_values(\n",
    "        by=['score'], ascending=False).drop_duplicates('title').head(10)\n",
    "\n",
    "    return recommendations[['title', 'genres', 'year', 'rating', 'popularity', 'similarity']]"
   ]
  },
  {
   "cell_type": "code",
   "execution_count": 13,
   "metadata": {},
   "outputs": [],
   "source": [
    "# Step 6: Model Evaluation (Grey Sheep + Cold Start Handling)\n",
    "def evaluate():\n",
    "    # Binary classification (good or bad movie)\n",
    "    y_true = data['rating'] > data['rating'].mean()\n",
    "\n",
    "    predictions = []\n",
    "    for title in data['title'].sample(100):  # Sample 100 movies to evaluate\n",
    "        try:\n",
    "            recs = recommend(title)\n",
    "            preds = recs['rating'] > data['rating'].mean()\n",
    "            predictions.extend(preds)\n",
    "        except:\n",
    "            pass\n",
    "\n",
    "    # F1 Score\n",
    "    f1 = f1_score(y_true[:len(predictions)], predictions)\n",
    "\n",
    "    # Precision\n",
    "    precision = precision_score(y_true[:len(predictions)], predictions)\n",
    "\n",
    "    # Recall\n",
    "    recall = recall_score(y_true[:len(predictions)], predictions)\n",
    "\n",
    "    print(f\"F1 Score: {f1:.3f}\")\n",
    "    print(f\"Precision: {precision:.3f}\")\n",
    "    print(f\"Recall: {recall:.3f}\")"
   ]
  },
  {
   "cell_type": "code",
   "execution_count": null,
   "metadata": {},
   "outputs": [],
   "source": [
    "# Step 7: Example Run\n",
    "if __name__ == \"__main__\":\n",
    "    query = input(\"Enter movie name: \")\n",
    "    recommendations = recommend(query)\n",
    "    print(\"\\nRecommended Movies:\\n\", recommendations)\n",
    "\n",
    "    # Evaluate Model\n",
    "    evaluate()"
   ]
  },
  {
   "cell_type": "markdown",
   "metadata": {},
   "source": [
    "### MINIBatch"
   ]
  },
  {
   "cell_type": "code",
   "execution_count": 18,
   "metadata": {},
   "outputs": [],
   "source": [
    "\n",
    "# Use MiniBatchKMeans for clustering\n",
    "kmeans = MiniBatchKMeans(n_clusters=10, batch_size=100, random_state=42)\n",
    "data['cluster'] = kmeans.fit_predict(X)"
   ]
  },
  {
   "cell_type": "code",
   "execution_count": 19,
   "metadata": {},
   "outputs": [],
   "source": [
    "# Resolve Homonyms\n",
    "def resolve_homonym(query):\n",
    "    choices = data['title'].unique()\n",
    "    return min(choices, key=lambda x: abs(len(x) - len(query)))"
   ]
  },
  {
   "cell_type": "code",
   "execution_count": 20,
   "metadata": {},
   "outputs": [],
   "source": [
    "# Enhanced Recommendation System\n",
    "\n",
    "\n",
    "def recommend(query):\n",
    "    query = resolve_homonym(query)\n",
    "    query_vector = vectorizer.transform([query])\n",
    "    cluster = kmeans.predict(query_vector)[0]\n",
    "\n",
    "    cluster_items = data[data['cluster'] == cluster]\n",
    "    if cluster_items.empty:\n",
    "        # Cold-start handling: suggest top-rated items by genre and year\n",
    "        top_items = data.sort_values(\n",
    "            by=['rating', 'year'], ascending=[False, False]).head(5)\n",
    "        return top_items[['title', 'genres', 'year', 'rating']]\n",
    "\n",
    "    # Add similarity score\n",
    "    similarity = cosine_similarity(query_vector, X[cluster_items.index])\n",
    "    cluster_items['similarity'] = similarity.flatten()\n",
    "\n",
    "    # Improve relevance using rating and popularity\n",
    "    cluster_items['popularity'] = cluster_items['rating'] * \\\n",
    "        cluster_items.groupby('genres')['rating'].transform('count')\n",
    "    cluster_items = cluster_items.sort_values(\n",
    "        by=['similarity', 'popularity', 'rating'], ascending=[False, False, False])\n",
    "\n",
    "    # Drop duplicates and select top 10\n",
    "    recommendations = cluster_items.drop_duplicates('title').head(10)\n",
    "    return recommendations[['title', 'genres', 'year', 'rating', 'similarity']]"
   ]
  },
  {
   "cell_type": "code",
   "execution_count": 22,
   "metadata": {},
   "outputs": [
    {
     "name": "stderr",
     "output_type": "stream",
     "text": [
      "c:\\Users\\hp\\AppData\\Local\\Programs\\Python\\Python39\\lib\\site-packages\\sklearn\\cluster\\_kmeans.py:1934: FutureWarning: The default value of `n_init` will change from 3 to 'auto' in 1.4. Set the value of `n_init` explicitly to suppress the warning\n",
      "  super()._check_params_vs_input(X, default_n_init=3)\n"
     ]
    },
    {
     "name": "stdout",
     "output_type": "stream",
     "text": [
      "\n",
      "Recommended Movies:\n",
      "                                       title  genres  year  rating  similarity\n",
      "5299                   Billy Madison (1995)  Comedy  1970     5.0         0.0\n",
      "5476                          Clerks (1994)  Comedy  1970     5.0         0.0\n",
      "68506                      Tommy Boy (1995)  Comedy  1970     5.0         0.0\n",
      "71837             Dazed and Confused (1993)  Comedy  1970     5.0         0.0\n",
      "79249   Monty Python's Life of Brian (1979)  Comedy  1970     5.0         0.0\n",
      "115778                 Wayne's World (1992)  Comedy  1970     5.0         0.0\n",
      "116043                Grumpy Old Men (1993)  Comedy  1970     5.0         0.0\n",
      "118197                     Road Trip (2000)  Comedy  1970     5.0         0.0\n",
      "119364               What About Bob? (1991)  Comedy  1970     5.0         0.0\n",
      "123124                 Step Brothers (2008)  Comedy  1970     5.0         0.0\n"
     ]
    }
   ],
   "source": [
    "import pandas as pd\n",
    "from sklearn.feature_extraction.text import TfidfVectorizer\n",
    "from sklearn.cluster import MiniBatchKMeans\n",
    "from sklearn.metrics.pairwise import cosine_similarity\n",
    "\n",
    "# Load data\n",
    "data = pd.read_csv('data.csv')\n",
    "\n",
    "# Fill missing metadata with an empty string\n",
    "data['metadata'] = data['metadata'].fillna('')\n",
    "\n",
    "# Vectorize metadata\n",
    "vectorizer = TfidfVectorizer(max_features=5000)\n",
    "X = vectorizer.fit_transform(data['metadata'])\n",
    "\n",
    "# Use MiniBatchKMeans for clustering\n",
    "kmeans = MiniBatchKMeans(n_clusters=10, batch_size=100, random_state=42)\n",
    "data['cluster'] = kmeans.fit_predict(X)\n",
    "\n",
    "# Resolve Homonyms\n",
    "\n",
    "\n",
    "def resolve_homonym(query):\n",
    "    choices = data['title'].dropna().unique()\n",
    "    return min(choices, key=lambda x: abs(len(x) - len(query)))\n",
    "\n",
    "# Enhanced Recommendation System\n",
    "\n",
    "\n",
    "def recommend(query):\n",
    "    try:\n",
    "        query = resolve_homonym(query)\n",
    "        query_vector = vectorizer.transform([query])\n",
    "        cluster = kmeans.predict(query_vector)[0]\n",
    "\n",
    "        cluster_items = data[data['cluster'] == cluster]\n",
    "        if cluster_items.empty:\n",
    "            # Cold-start handling: suggest top-rated items by genre and year\n",
    "            top_items = data.sort_values(\n",
    "                by=['rating', 'year'], ascending=[False, False]).head(5)\n",
    "            return top_items[['title', 'genres', 'year', 'rating']]\n",
    "\n",
    "        # Add similarity score\n",
    "        similarity = cosine_similarity(query_vector, X[cluster_items.index])\n",
    "        cluster_items = cluster_items.assign(similarity=similarity.flatten())\n",
    "\n",
    "        # Improve relevance using rating and popularity\n",
    "        cluster_items['popularity'] = cluster_items['rating'] * \\\n",
    "            cluster_items.groupby('genres')['rating'].transform('count')\n",
    "        cluster_items = cluster_items.sort_values(\n",
    "            by=['similarity', 'popularity', 'rating'], ascending=[False, False, False])\n",
    "\n",
    "        # Drop duplicates and select top 10\n",
    "        recommendations = cluster_items.drop_duplicates('title').head(10)\n",
    "        return recommendations[['title', 'genres', 'year', 'rating', 'similarity']]\n",
    "\n",
    "    except Exception as e:\n",
    "        print(f\"Error: {e}\")\n",
    "        return pd.DataFrame(columns=['title', 'genres', 'year', 'rating', 'similarity'])\n",
    "\n",
    "\n",
    "# Example Run\n",
    "if __name__ == \"__main__\":\n",
    "    query = input(\"Enter movie name: \")\n",
    "    recommendations = recommend(query)\n",
    "    print(\"\\nRecommended Movies:\\n\", recommendations)"
   ]
  }
 ],
 "metadata": {
  "kernelspec": {
   "display_name": "Python 3",
   "language": "python",
   "name": "python3"
  },
  "language_info": {
   "codemirror_mode": {
    "name": "ipython",
    "version": 3
   },
   "file_extension": ".py",
   "mimetype": "text/x-python",
   "name": "python",
   "nbconvert_exporter": "python",
   "pygments_lexer": "ipython3",
   "version": "3.9.13"
  }
 },
 "nbformat": 4,
 "nbformat_minor": 2
}
