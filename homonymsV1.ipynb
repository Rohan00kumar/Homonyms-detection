{
  "cells": [
    {
      "cell_type": "markdown",
      "metadata": {
        "id": "Gqny7Uxf49pv"
      },
      "source": [
        "**Project Goal:** Develop a hybrid recommender system that improves recommendation accuracy and effectiveness by mitigating the impact of homonyms and the cold-start problem."
      ]
    },
    {
      "cell_type": "code",
      "execution_count": 1,
      "metadata": {
        "id": "0voPglsRqO1l"
      },
      "outputs": [],
      "source": [
        "import pandas as pd\n",
        "import numpy as np"
      ]
    },
    {
      "cell_type": "code",
      "execution_count": 2,
      "metadata": {
        "colab": {
          "base_uri": "https://localhost:8080/",
          "height": 373
        },
        "id": "TihHCbcUrT7J",
        "outputId": "13ee0f18-0d63-4e1c-dac2-780e03e9bcc3"
      },
      "outputs": [],
      "source": [
        "links = pd.read_csv('links.csv')\n",
        "movies = pd.read_csv('movies.csv')\n",
        "ratings = pd.read_csv('ratings.csv')\n",
        "tags = pd.read_csv('tags.csv')\n",
        "data = pd.read_csv('movies.csv')"
      ]
    },
    {
      "cell_type": "code",
      "execution_count": 3,
      "metadata": {
        "colab": {
          "base_uri": "https://localhost:8080/"
        },
        "id": "zulgrhPnsRo6",
        "outputId": "07806195-507a-4b57-f7f5-8a84eb1dbc9c"
      },
      "outputs": [
        {
          "data": {
            "text/plain": [
              "Index(['movieId', 'imdbId', 'tmdbId'], dtype='object')"
            ]
          },
          "execution_count": 3,
          "metadata": {},
          "output_type": "execute_result"
        }
      ],
      "source": [
        "links.columns"
      ]
    },
    {
      "cell_type": "code",
      "execution_count": 4,
      "metadata": {
        "colab": {
          "base_uri": "https://localhost:8080/"
        },
        "id": "dXcaib6YsVmL",
        "outputId": "64f415b2-8c78-4b82-e3c4-7f9f92a956e7"
      },
      "outputs": [
        {
          "data": {
            "text/plain": [
              "Index(['movieId', 'title', 'genres'], dtype='object')"
            ]
          },
          "execution_count": 4,
          "metadata": {},
          "output_type": "execute_result"
        }
      ],
      "source": [
        "movies.columns"
      ]
    },
    {
      "cell_type": "code",
      "execution_count": 5,
      "metadata": {
        "colab": {
          "base_uri": "https://localhost:8080/"
        },
        "id": "uv81FUoDsbYC",
        "outputId": "9c65b540-e8b8-46b6-9602-1afdafd15bc1"
      },
      "outputs": [
        {
          "data": {
            "text/plain": [
              "Index(['userId', 'movieId', 'rating', 'timestamp'], dtype='object')"
            ]
          },
          "execution_count": 5,
          "metadata": {},
          "output_type": "execute_result"
        }
      ],
      "source": [
        "ratings.columns"
      ]
    },
    {
      "cell_type": "code",
      "execution_count": 6,
      "metadata": {
        "colab": {
          "base_uri": "https://localhost:8080/"
        },
        "id": "Oos83NUXsiRc",
        "outputId": "1e64d940-e989-41b7-c77e-ff39412ea1da"
      },
      "outputs": [
        {
          "data": {
            "text/plain": [
              "Index(['userId', 'movieId', 'tag', 'timestamp'], dtype='object')"
            ]
          },
          "execution_count": 6,
          "metadata": {},
          "output_type": "execute_result"
        }
      ],
      "source": [
        "tags.columns"
      ]
    },
    {
      "cell_type": "code",
      "execution_count": 7,
      "metadata": {
        "id": "7Z5AenY6rY9X"
      },
      "outputs": [],
      "source": [
        "# combine the dataset\n",
        "df1 = pd.merge(ratings, movies, on='movieId')\n",
        "df2 = pd.merge(df1, tags, on='movieId')\n",
        "data = pd.merge(df2, links, on='movieId')"
      ]
    },
    {
      "cell_type": "code",
      "execution_count": 8,
      "metadata": {
        "colab": {
          "base_uri": "https://localhost:8080/",
          "height": 206
        },
        "id": "gsV8oUgOtFSx",
        "outputId": "ba01a7b8-8e7c-4550-9411-1c58e4ee4d49"
      },
      "outputs": [
        {
          "data": {
            "text/html": [
              "<div>\n",
              "<style scoped>\n",
              "    .dataframe tbody tr th:only-of-type {\n",
              "        vertical-align: middle;\n",
              "    }\n",
              "\n",
              "    .dataframe tbody tr th {\n",
              "        vertical-align: top;\n",
              "    }\n",
              "\n",
              "    .dataframe thead th {\n",
              "        text-align: right;\n",
              "    }\n",
              "</style>\n",
              "<table border=\"1\" class=\"dataframe\">\n",
              "  <thead>\n",
              "    <tr style=\"text-align: right;\">\n",
              "      <th></th>\n",
              "      <th>userId</th>\n",
              "      <th>movieId</th>\n",
              "      <th>rating</th>\n",
              "      <th>timestamp</th>\n",
              "      <th>title</th>\n",
              "      <th>genres</th>\n",
              "    </tr>\n",
              "  </thead>\n",
              "  <tbody>\n",
              "    <tr>\n",
              "      <th>0</th>\n",
              "      <td>1</td>\n",
              "      <td>1</td>\n",
              "      <td>4.0</td>\n",
              "      <td>964982703</td>\n",
              "      <td>Toy Story (1995)</td>\n",
              "      <td>Adventure|Animation|Children|Comedy|Fantasy</td>\n",
              "    </tr>\n",
              "    <tr>\n",
              "      <th>1</th>\n",
              "      <td>5</td>\n",
              "      <td>1</td>\n",
              "      <td>4.0</td>\n",
              "      <td>847434962</td>\n",
              "      <td>Toy Story (1995)</td>\n",
              "      <td>Adventure|Animation|Children|Comedy|Fantasy</td>\n",
              "    </tr>\n",
              "    <tr>\n",
              "      <th>2</th>\n",
              "      <td>7</td>\n",
              "      <td>1</td>\n",
              "      <td>4.5</td>\n",
              "      <td>1106635946</td>\n",
              "      <td>Toy Story (1995)</td>\n",
              "      <td>Adventure|Animation|Children|Comedy|Fantasy</td>\n",
              "    </tr>\n",
              "    <tr>\n",
              "      <th>3</th>\n",
              "      <td>15</td>\n",
              "      <td>1</td>\n",
              "      <td>2.5</td>\n",
              "      <td>1510577970</td>\n",
              "      <td>Toy Story (1995)</td>\n",
              "      <td>Adventure|Animation|Children|Comedy|Fantasy</td>\n",
              "    </tr>\n",
              "    <tr>\n",
              "      <th>4</th>\n",
              "      <td>17</td>\n",
              "      <td>1</td>\n",
              "      <td>4.5</td>\n",
              "      <td>1305696483</td>\n",
              "      <td>Toy Story (1995)</td>\n",
              "      <td>Adventure|Animation|Children|Comedy|Fantasy</td>\n",
              "    </tr>\n",
              "  </tbody>\n",
              "</table>\n",
              "</div>"
            ],
            "text/plain": [
              "   userId  movieId  rating   timestamp             title  \\\n",
              "0       1        1     4.0   964982703  Toy Story (1995)   \n",
              "1       5        1     4.0   847434962  Toy Story (1995)   \n",
              "2       7        1     4.5  1106635946  Toy Story (1995)   \n",
              "3      15        1     2.5  1510577970  Toy Story (1995)   \n",
              "4      17        1     4.5  1305696483  Toy Story (1995)   \n",
              "\n",
              "                                        genres  \n",
              "0  Adventure|Animation|Children|Comedy|Fantasy  \n",
              "1  Adventure|Animation|Children|Comedy|Fantasy  \n",
              "2  Adventure|Animation|Children|Comedy|Fantasy  \n",
              "3  Adventure|Animation|Children|Comedy|Fantasy  \n",
              "4  Adventure|Animation|Children|Comedy|Fantasy  "
            ]
          },
          "execution_count": 8,
          "metadata": {},
          "output_type": "execute_result"
        }
      ],
      "source": [
        "df1.head()"
      ]
    },
    {
      "cell_type": "code",
      "execution_count": 9,
      "metadata": {
        "colab": {
          "base_uri": "https://localhost:8080/",
          "height": 347
        },
        "id": "Us08pMd-tI-m",
        "outputId": "05cbafc9-14c4-4ddb-eef6-5c98f13bc7f6"
      },
      "outputs": [
        {
          "data": {
            "text/html": [
              "<div>\n",
              "<style scoped>\n",
              "    .dataframe tbody tr th:only-of-type {\n",
              "        vertical-align: middle;\n",
              "    }\n",
              "\n",
              "    .dataframe tbody tr th {\n",
              "        vertical-align: top;\n",
              "    }\n",
              "\n",
              "    .dataframe thead th {\n",
              "        text-align: right;\n",
              "    }\n",
              "</style>\n",
              "<table border=\"1\" class=\"dataframe\">\n",
              "  <thead>\n",
              "    <tr style=\"text-align: right;\">\n",
              "      <th></th>\n",
              "      <th>userId_x</th>\n",
              "      <th>movieId</th>\n",
              "      <th>rating</th>\n",
              "      <th>timestamp_x</th>\n",
              "      <th>title</th>\n",
              "      <th>genres</th>\n",
              "      <th>userId_y</th>\n",
              "      <th>tag</th>\n",
              "      <th>timestamp_y</th>\n",
              "    </tr>\n",
              "  </thead>\n",
              "  <tbody>\n",
              "    <tr>\n",
              "      <th>0</th>\n",
              "      <td>1</td>\n",
              "      <td>1</td>\n",
              "      <td>4.0</td>\n",
              "      <td>964982703</td>\n",
              "      <td>Toy Story (1995)</td>\n",
              "      <td>Adventure|Animation|Children|Comedy|Fantasy</td>\n",
              "      <td>336</td>\n",
              "      <td>pixar</td>\n",
              "      <td>1139045764</td>\n",
              "    </tr>\n",
              "    <tr>\n",
              "      <th>1</th>\n",
              "      <td>1</td>\n",
              "      <td>1</td>\n",
              "      <td>4.0</td>\n",
              "      <td>964982703</td>\n",
              "      <td>Toy Story (1995)</td>\n",
              "      <td>Adventure|Animation|Children|Comedy|Fantasy</td>\n",
              "      <td>474</td>\n",
              "      <td>pixar</td>\n",
              "      <td>1137206825</td>\n",
              "    </tr>\n",
              "    <tr>\n",
              "      <th>2</th>\n",
              "      <td>1</td>\n",
              "      <td>1</td>\n",
              "      <td>4.0</td>\n",
              "      <td>964982703</td>\n",
              "      <td>Toy Story (1995)</td>\n",
              "      <td>Adventure|Animation|Children|Comedy|Fantasy</td>\n",
              "      <td>567</td>\n",
              "      <td>fun</td>\n",
              "      <td>1525286013</td>\n",
              "    </tr>\n",
              "    <tr>\n",
              "      <th>3</th>\n",
              "      <td>5</td>\n",
              "      <td>1</td>\n",
              "      <td>4.0</td>\n",
              "      <td>847434962</td>\n",
              "      <td>Toy Story (1995)</td>\n",
              "      <td>Adventure|Animation|Children|Comedy|Fantasy</td>\n",
              "      <td>336</td>\n",
              "      <td>pixar</td>\n",
              "      <td>1139045764</td>\n",
              "    </tr>\n",
              "    <tr>\n",
              "      <th>4</th>\n",
              "      <td>5</td>\n",
              "      <td>1</td>\n",
              "      <td>4.0</td>\n",
              "      <td>847434962</td>\n",
              "      <td>Toy Story (1995)</td>\n",
              "      <td>Adventure|Animation|Children|Comedy|Fantasy</td>\n",
              "      <td>474</td>\n",
              "      <td>pixar</td>\n",
              "      <td>1137206825</td>\n",
              "    </tr>\n",
              "  </tbody>\n",
              "</table>\n",
              "</div>"
            ],
            "text/plain": [
              "   userId_x  movieId  rating  timestamp_x             title  \\\n",
              "0         1        1     4.0    964982703  Toy Story (1995)   \n",
              "1         1        1     4.0    964982703  Toy Story (1995)   \n",
              "2         1        1     4.0    964982703  Toy Story (1995)   \n",
              "3         5        1     4.0    847434962  Toy Story (1995)   \n",
              "4         5        1     4.0    847434962  Toy Story (1995)   \n",
              "\n",
              "                                        genres  userId_y    tag  timestamp_y  \n",
              "0  Adventure|Animation|Children|Comedy|Fantasy       336  pixar   1139045764  \n",
              "1  Adventure|Animation|Children|Comedy|Fantasy       474  pixar   1137206825  \n",
              "2  Adventure|Animation|Children|Comedy|Fantasy       567    fun   1525286013  \n",
              "3  Adventure|Animation|Children|Comedy|Fantasy       336  pixar   1139045764  \n",
              "4  Adventure|Animation|Children|Comedy|Fantasy       474  pixar   1137206825  "
            ]
          },
          "execution_count": 9,
          "metadata": {},
          "output_type": "execute_result"
        }
      ],
      "source": [
        "df2.head()"
      ]
    },
    {
      "cell_type": "code",
      "execution_count": 10,
      "metadata": {
        "colab": {
          "base_uri": "https://localhost:8080/",
          "height": 347
        },
        "id": "MKLHpoKgrf3V",
        "outputId": "73eac616-9b83-4182-95b4-6462a47cc860"
      },
      "outputs": [
        {
          "data": {
            "text/html": [
              "<div>\n",
              "<style scoped>\n",
              "    .dataframe tbody tr th:only-of-type {\n",
              "        vertical-align: middle;\n",
              "    }\n",
              "\n",
              "    .dataframe tbody tr th {\n",
              "        vertical-align: top;\n",
              "    }\n",
              "\n",
              "    .dataframe thead th {\n",
              "        text-align: right;\n",
              "    }\n",
              "</style>\n",
              "<table border=\"1\" class=\"dataframe\">\n",
              "  <thead>\n",
              "    <tr style=\"text-align: right;\">\n",
              "      <th></th>\n",
              "      <th>userId_x</th>\n",
              "      <th>movieId</th>\n",
              "      <th>rating</th>\n",
              "      <th>timestamp_x</th>\n",
              "      <th>title</th>\n",
              "      <th>genres</th>\n",
              "      <th>userId_y</th>\n",
              "      <th>tag</th>\n",
              "      <th>timestamp_y</th>\n",
              "      <th>imdbId</th>\n",
              "      <th>tmdbId</th>\n",
              "    </tr>\n",
              "  </thead>\n",
              "  <tbody>\n",
              "    <tr>\n",
              "      <th>0</th>\n",
              "      <td>1</td>\n",
              "      <td>1</td>\n",
              "      <td>4.0</td>\n",
              "      <td>964982703</td>\n",
              "      <td>Toy Story (1995)</td>\n",
              "      <td>Adventure|Animation|Children|Comedy|Fantasy</td>\n",
              "      <td>336</td>\n",
              "      <td>pixar</td>\n",
              "      <td>1139045764</td>\n",
              "      <td>114709</td>\n",
              "      <td>862.0</td>\n",
              "    </tr>\n",
              "    <tr>\n",
              "      <th>1</th>\n",
              "      <td>1</td>\n",
              "      <td>1</td>\n",
              "      <td>4.0</td>\n",
              "      <td>964982703</td>\n",
              "      <td>Toy Story (1995)</td>\n",
              "      <td>Adventure|Animation|Children|Comedy|Fantasy</td>\n",
              "      <td>474</td>\n",
              "      <td>pixar</td>\n",
              "      <td>1137206825</td>\n",
              "      <td>114709</td>\n",
              "      <td>862.0</td>\n",
              "    </tr>\n",
              "    <tr>\n",
              "      <th>2</th>\n",
              "      <td>1</td>\n",
              "      <td>1</td>\n",
              "      <td>4.0</td>\n",
              "      <td>964982703</td>\n",
              "      <td>Toy Story (1995)</td>\n",
              "      <td>Adventure|Animation|Children|Comedy|Fantasy</td>\n",
              "      <td>567</td>\n",
              "      <td>fun</td>\n",
              "      <td>1525286013</td>\n",
              "      <td>114709</td>\n",
              "      <td>862.0</td>\n",
              "    </tr>\n",
              "    <tr>\n",
              "      <th>3</th>\n",
              "      <td>5</td>\n",
              "      <td>1</td>\n",
              "      <td>4.0</td>\n",
              "      <td>847434962</td>\n",
              "      <td>Toy Story (1995)</td>\n",
              "      <td>Adventure|Animation|Children|Comedy|Fantasy</td>\n",
              "      <td>336</td>\n",
              "      <td>pixar</td>\n",
              "      <td>1139045764</td>\n",
              "      <td>114709</td>\n",
              "      <td>862.0</td>\n",
              "    </tr>\n",
              "    <tr>\n",
              "      <th>4</th>\n",
              "      <td>5</td>\n",
              "      <td>1</td>\n",
              "      <td>4.0</td>\n",
              "      <td>847434962</td>\n",
              "      <td>Toy Story (1995)</td>\n",
              "      <td>Adventure|Animation|Children|Comedy|Fantasy</td>\n",
              "      <td>474</td>\n",
              "      <td>pixar</td>\n",
              "      <td>1137206825</td>\n",
              "      <td>114709</td>\n",
              "      <td>862.0</td>\n",
              "    </tr>\n",
              "  </tbody>\n",
              "</table>\n",
              "</div>"
            ],
            "text/plain": [
              "   userId_x  movieId  rating  timestamp_x             title  \\\n",
              "0         1        1     4.0    964982703  Toy Story (1995)   \n",
              "1         1        1     4.0    964982703  Toy Story (1995)   \n",
              "2         1        1     4.0    964982703  Toy Story (1995)   \n",
              "3         5        1     4.0    847434962  Toy Story (1995)   \n",
              "4         5        1     4.0    847434962  Toy Story (1995)   \n",
              "\n",
              "                                        genres  userId_y    tag  timestamp_y  \\\n",
              "0  Adventure|Animation|Children|Comedy|Fantasy       336  pixar   1139045764   \n",
              "1  Adventure|Animation|Children|Comedy|Fantasy       474  pixar   1137206825   \n",
              "2  Adventure|Animation|Children|Comedy|Fantasy       567    fun   1525286013   \n",
              "3  Adventure|Animation|Children|Comedy|Fantasy       336  pixar   1139045764   \n",
              "4  Adventure|Animation|Children|Comedy|Fantasy       474  pixar   1137206825   \n",
              "\n",
              "   imdbId  tmdbId  \n",
              "0  114709   862.0  \n",
              "1  114709   862.0  \n",
              "2  114709   862.0  \n",
              "3  114709   862.0  \n",
              "4  114709   862.0  "
            ]
          },
          "execution_count": 10,
          "metadata": {},
          "output_type": "execute_result"
        }
      ],
      "source": [
        "data.head()"
      ]
    },
    {
      "cell_type": "code",
      "execution_count": 11,
      "metadata": {
        "colab": {
          "base_uri": "https://localhost:8080/"
        },
        "id": "uUp1_ORitNwa",
        "outputId": "e9cf7871-1424-4e69-bf16-47e714691765"
      },
      "outputs": [
        {
          "name": "stdout",
          "output_type": "stream",
          "text": [
            "<class 'pandas.core.frame.DataFrame'>\n",
            "RangeIndex: 233213 entries, 0 to 233212\n",
            "Data columns (total 11 columns):\n",
            " #   Column       Non-Null Count   Dtype  \n",
            "---  ------       --------------   -----  \n",
            " 0   userId_x     233213 non-null  int64  \n",
            " 1   movieId      233213 non-null  int64  \n",
            " 2   rating       233213 non-null  float64\n",
            " 3   timestamp_x  233213 non-null  int64  \n",
            " 4   title        233213 non-null  object \n",
            " 5   genres       233213 non-null  object \n",
            " 6   userId_y     233213 non-null  int64  \n",
            " 7   tag          233213 non-null  object \n",
            " 8   timestamp_y  233213 non-null  int64  \n",
            " 9   imdbId       233213 non-null  int64  \n",
            " 10  tmdbId       233213 non-null  float64\n",
            "dtypes: float64(2), int64(6), object(3)\n",
            "memory usage: 19.6+ MB\n"
          ]
        }
      ],
      "source": [
        "data.info()"
      ]
    },
    {
      "cell_type": "markdown",
      "metadata": {
        "id": "jvjbDsgVr4an"
      },
      "source": [
        "# Method : 1\n",
        "1. Load dataset into DataFrame.\n",
        "2. Combine metadata into a single text feature.\n",
        "3. Vectorize metadata using TF-IDF.\n",
        "4. Add temporal features to the feature set.\n",
        "5. Cluster items using DBSCAN.\n",
        "6. For new item query:\n",
        "   a. Vectorize the query.\n",
        "   b. Add temporal feature.\n",
        "   c. Predict cluster.\n",
        "   d. Recommend items from the same cluster.\n",
        "7. For new user profile:\n",
        "   a. Filter items based on user preferences.\n",
        "   b. Recommend items from the largest cluster in the filtered dataset.\n",
        "8. Output clustered items and recommendations."
      ]
    },
    {
      "cell_type": "code",
      "execution_count": 12,
      "metadata": {
        "id": "crQDj0_hrich"
      },
      "outputs": [],
      "source": [
        "# Vectorize metadata using TF-IDF\n",
        "from sklearn.feature_extraction.text import TfidfVectorizer\n",
        "from sklearn.cluster import DBSCAN\n",
        "\n",
        "# Combine metadata into a single text feature\n",
        "data['metadata'] = data['title'] + ' ' + data['genres'] + ' ' + data['tag']"
      ]
    },
    {
      "cell_type": "code",
      "execution_count": 13,
      "metadata": {
        "colab": {
          "base_uri": "https://localhost:8080/",
          "height": 347
        },
        "id": "zyKts8-ftgqE",
        "outputId": "b7a85567-6735-46c4-bebe-bb7c647241b2"
      },
      "outputs": [
        {
          "data": {
            "text/html": [
              "<div>\n",
              "<style scoped>\n",
              "    .dataframe tbody tr th:only-of-type {\n",
              "        vertical-align: middle;\n",
              "    }\n",
              "\n",
              "    .dataframe tbody tr th {\n",
              "        vertical-align: top;\n",
              "    }\n",
              "\n",
              "    .dataframe thead th {\n",
              "        text-align: right;\n",
              "    }\n",
              "</style>\n",
              "<table border=\"1\" class=\"dataframe\">\n",
              "  <thead>\n",
              "    <tr style=\"text-align: right;\">\n",
              "      <th></th>\n",
              "      <th>userId_x</th>\n",
              "      <th>movieId</th>\n",
              "      <th>rating</th>\n",
              "      <th>timestamp_x</th>\n",
              "      <th>title</th>\n",
              "      <th>genres</th>\n",
              "      <th>userId_y</th>\n",
              "      <th>tag</th>\n",
              "      <th>timestamp_y</th>\n",
              "      <th>imdbId</th>\n",
              "      <th>tmdbId</th>\n",
              "      <th>metadata</th>\n",
              "    </tr>\n",
              "  </thead>\n",
              "  <tbody>\n",
              "    <tr>\n",
              "      <th>0</th>\n",
              "      <td>1</td>\n",
              "      <td>1</td>\n",
              "      <td>4.0</td>\n",
              "      <td>964982703</td>\n",
              "      <td>Toy Story (1995)</td>\n",
              "      <td>Adventure|Animation|Children|Comedy|Fantasy</td>\n",
              "      <td>336</td>\n",
              "      <td>pixar</td>\n",
              "      <td>1139045764</td>\n",
              "      <td>114709</td>\n",
              "      <td>862.0</td>\n",
              "      <td>Toy Story (1995) Adventure|Animation|Children|...</td>\n",
              "    </tr>\n",
              "    <tr>\n",
              "      <th>1</th>\n",
              "      <td>1</td>\n",
              "      <td>1</td>\n",
              "      <td>4.0</td>\n",
              "      <td>964982703</td>\n",
              "      <td>Toy Story (1995)</td>\n",
              "      <td>Adventure|Animation|Children|Comedy|Fantasy</td>\n",
              "      <td>474</td>\n",
              "      <td>pixar</td>\n",
              "      <td>1137206825</td>\n",
              "      <td>114709</td>\n",
              "      <td>862.0</td>\n",
              "      <td>Toy Story (1995) Adventure|Animation|Children|...</td>\n",
              "    </tr>\n",
              "    <tr>\n",
              "      <th>2</th>\n",
              "      <td>1</td>\n",
              "      <td>1</td>\n",
              "      <td>4.0</td>\n",
              "      <td>964982703</td>\n",
              "      <td>Toy Story (1995)</td>\n",
              "      <td>Adventure|Animation|Children|Comedy|Fantasy</td>\n",
              "      <td>567</td>\n",
              "      <td>fun</td>\n",
              "      <td>1525286013</td>\n",
              "      <td>114709</td>\n",
              "      <td>862.0</td>\n",
              "      <td>Toy Story (1995) Adventure|Animation|Children|...</td>\n",
              "    </tr>\n",
              "    <tr>\n",
              "      <th>3</th>\n",
              "      <td>5</td>\n",
              "      <td>1</td>\n",
              "      <td>4.0</td>\n",
              "      <td>847434962</td>\n",
              "      <td>Toy Story (1995)</td>\n",
              "      <td>Adventure|Animation|Children|Comedy|Fantasy</td>\n",
              "      <td>336</td>\n",
              "      <td>pixar</td>\n",
              "      <td>1139045764</td>\n",
              "      <td>114709</td>\n",
              "      <td>862.0</td>\n",
              "      <td>Toy Story (1995) Adventure|Animation|Children|...</td>\n",
              "    </tr>\n",
              "    <tr>\n",
              "      <th>4</th>\n",
              "      <td>5</td>\n",
              "      <td>1</td>\n",
              "      <td>4.0</td>\n",
              "      <td>847434962</td>\n",
              "      <td>Toy Story (1995)</td>\n",
              "      <td>Adventure|Animation|Children|Comedy|Fantasy</td>\n",
              "      <td>474</td>\n",
              "      <td>pixar</td>\n",
              "      <td>1137206825</td>\n",
              "      <td>114709</td>\n",
              "      <td>862.0</td>\n",
              "      <td>Toy Story (1995) Adventure|Animation|Children|...</td>\n",
              "    </tr>\n",
              "  </tbody>\n",
              "</table>\n",
              "</div>"
            ],
            "text/plain": [
              "   userId_x  movieId  rating  timestamp_x             title  \\\n",
              "0         1        1     4.0    964982703  Toy Story (1995)   \n",
              "1         1        1     4.0    964982703  Toy Story (1995)   \n",
              "2         1        1     4.0    964982703  Toy Story (1995)   \n",
              "3         5        1     4.0    847434962  Toy Story (1995)   \n",
              "4         5        1     4.0    847434962  Toy Story (1995)   \n",
              "\n",
              "                                        genres  userId_y    tag  timestamp_y  \\\n",
              "0  Adventure|Animation|Children|Comedy|Fantasy       336  pixar   1139045764   \n",
              "1  Adventure|Animation|Children|Comedy|Fantasy       474  pixar   1137206825   \n",
              "2  Adventure|Animation|Children|Comedy|Fantasy       567    fun   1525286013   \n",
              "3  Adventure|Animation|Children|Comedy|Fantasy       336  pixar   1139045764   \n",
              "4  Adventure|Animation|Children|Comedy|Fantasy       474  pixar   1137206825   \n",
              "\n",
              "   imdbId  tmdbId                                           metadata  \n",
              "0  114709   862.0  Toy Story (1995) Adventure|Animation|Children|...  \n",
              "1  114709   862.0  Toy Story (1995) Adventure|Animation|Children|...  \n",
              "2  114709   862.0  Toy Story (1995) Adventure|Animation|Children|...  \n",
              "3  114709   862.0  Toy Story (1995) Adventure|Animation|Children|...  \n",
              "4  114709   862.0  Toy Story (1995) Adventure|Animation|Children|...  "
            ]
          },
          "execution_count": 13,
          "metadata": {},
          "output_type": "execute_result"
        }
      ],
      "source": [
        "data.head()"
      ]
    },
    {
      "cell_type": "code",
      "execution_count": 14,
      "metadata": {
        "id": "KGxOi8DjuheT"
      },
      "outputs": [],
      "source": [
        "# remove timestamp_y\n",
        "data.drop('timestamp_y', axis=1, inplace=True)"
      ]
    },
    {
      "cell_type": "code",
      "execution_count": 15,
      "metadata": {
        "id": "KDIipOMet3R9"
      },
      "outputs": [],
      "source": [
        "# Add temporal features to the feature set\n",
        "data['timestamp_x'] = pd.to_datetime(data['timestamp_x'], unit='s')\n",
        "data['year'] = data['timestamp_x'].dt.year\n",
        "data['month'] = data['timestamp_x'].dt.month\n",
        "data['day'] = data['timestamp_x'].dt.day"
      ]
    },
    {
      "cell_type": "code",
      "execution_count": 16,
      "metadata": {
        "colab": {
          "base_uri": "https://localhost:8080/",
          "height": 347
        },
        "id": "h3a8-t3Uu5_0",
        "outputId": "aef2459d-0cf2-4672-e581-b4231221aebe"
      },
      "outputs": [
        {
          "data": {
            "text/html": [
              "<div>\n",
              "<style scoped>\n",
              "    .dataframe tbody tr th:only-of-type {\n",
              "        vertical-align: middle;\n",
              "    }\n",
              "\n",
              "    .dataframe tbody tr th {\n",
              "        vertical-align: top;\n",
              "    }\n",
              "\n",
              "    .dataframe thead th {\n",
              "        text-align: right;\n",
              "    }\n",
              "</style>\n",
              "<table border=\"1\" class=\"dataframe\">\n",
              "  <thead>\n",
              "    <tr style=\"text-align: right;\">\n",
              "      <th></th>\n",
              "      <th>userId_x</th>\n",
              "      <th>movieId</th>\n",
              "      <th>rating</th>\n",
              "      <th>timestamp_x</th>\n",
              "      <th>title</th>\n",
              "      <th>genres</th>\n",
              "      <th>userId_y</th>\n",
              "      <th>tag</th>\n",
              "      <th>imdbId</th>\n",
              "      <th>tmdbId</th>\n",
              "      <th>metadata</th>\n",
              "      <th>year</th>\n",
              "      <th>month</th>\n",
              "      <th>day</th>\n",
              "    </tr>\n",
              "  </thead>\n",
              "  <tbody>\n",
              "    <tr>\n",
              "      <th>0</th>\n",
              "      <td>1</td>\n",
              "      <td>1</td>\n",
              "      <td>4.0</td>\n",
              "      <td>2000-07-30 18:45:03</td>\n",
              "      <td>Toy Story (1995)</td>\n",
              "      <td>Adventure|Animation|Children|Comedy|Fantasy</td>\n",
              "      <td>336</td>\n",
              "      <td>pixar</td>\n",
              "      <td>114709</td>\n",
              "      <td>862.0</td>\n",
              "      <td>Toy Story (1995) Adventure|Animation|Children|...</td>\n",
              "      <td>2000</td>\n",
              "      <td>7</td>\n",
              "      <td>30</td>\n",
              "    </tr>\n",
              "    <tr>\n",
              "      <th>1</th>\n",
              "      <td>1</td>\n",
              "      <td>1</td>\n",
              "      <td>4.0</td>\n",
              "      <td>2000-07-30 18:45:03</td>\n",
              "      <td>Toy Story (1995)</td>\n",
              "      <td>Adventure|Animation|Children|Comedy|Fantasy</td>\n",
              "      <td>474</td>\n",
              "      <td>pixar</td>\n",
              "      <td>114709</td>\n",
              "      <td>862.0</td>\n",
              "      <td>Toy Story (1995) Adventure|Animation|Children|...</td>\n",
              "      <td>2000</td>\n",
              "      <td>7</td>\n",
              "      <td>30</td>\n",
              "    </tr>\n",
              "    <tr>\n",
              "      <th>2</th>\n",
              "      <td>1</td>\n",
              "      <td>1</td>\n",
              "      <td>4.0</td>\n",
              "      <td>2000-07-30 18:45:03</td>\n",
              "      <td>Toy Story (1995)</td>\n",
              "      <td>Adventure|Animation|Children|Comedy|Fantasy</td>\n",
              "      <td>567</td>\n",
              "      <td>fun</td>\n",
              "      <td>114709</td>\n",
              "      <td>862.0</td>\n",
              "      <td>Toy Story (1995) Adventure|Animation|Children|...</td>\n",
              "      <td>2000</td>\n",
              "      <td>7</td>\n",
              "      <td>30</td>\n",
              "    </tr>\n",
              "    <tr>\n",
              "      <th>3</th>\n",
              "      <td>5</td>\n",
              "      <td>1</td>\n",
              "      <td>4.0</td>\n",
              "      <td>1996-11-08 06:36:02</td>\n",
              "      <td>Toy Story (1995)</td>\n",
              "      <td>Adventure|Animation|Children|Comedy|Fantasy</td>\n",
              "      <td>336</td>\n",
              "      <td>pixar</td>\n",
              "      <td>114709</td>\n",
              "      <td>862.0</td>\n",
              "      <td>Toy Story (1995) Adventure|Animation|Children|...</td>\n",
              "      <td>1996</td>\n",
              "      <td>11</td>\n",
              "      <td>8</td>\n",
              "    </tr>\n",
              "    <tr>\n",
              "      <th>4</th>\n",
              "      <td>5</td>\n",
              "      <td>1</td>\n",
              "      <td>4.0</td>\n",
              "      <td>1996-11-08 06:36:02</td>\n",
              "      <td>Toy Story (1995)</td>\n",
              "      <td>Adventure|Animation|Children|Comedy|Fantasy</td>\n",
              "      <td>474</td>\n",
              "      <td>pixar</td>\n",
              "      <td>114709</td>\n",
              "      <td>862.0</td>\n",
              "      <td>Toy Story (1995) Adventure|Animation|Children|...</td>\n",
              "      <td>1996</td>\n",
              "      <td>11</td>\n",
              "      <td>8</td>\n",
              "    </tr>\n",
              "  </tbody>\n",
              "</table>\n",
              "</div>"
            ],
            "text/plain": [
              "   userId_x  movieId  rating         timestamp_x             title  \\\n",
              "0         1        1     4.0 2000-07-30 18:45:03  Toy Story (1995)   \n",
              "1         1        1     4.0 2000-07-30 18:45:03  Toy Story (1995)   \n",
              "2         1        1     4.0 2000-07-30 18:45:03  Toy Story (1995)   \n",
              "3         5        1     4.0 1996-11-08 06:36:02  Toy Story (1995)   \n",
              "4         5        1     4.0 1996-11-08 06:36:02  Toy Story (1995)   \n",
              "\n",
              "                                        genres  userId_y    tag  imdbId  \\\n",
              "0  Adventure|Animation|Children|Comedy|Fantasy       336  pixar  114709   \n",
              "1  Adventure|Animation|Children|Comedy|Fantasy       474  pixar  114709   \n",
              "2  Adventure|Animation|Children|Comedy|Fantasy       567    fun  114709   \n",
              "3  Adventure|Animation|Children|Comedy|Fantasy       336  pixar  114709   \n",
              "4  Adventure|Animation|Children|Comedy|Fantasy       474  pixar  114709   \n",
              "\n",
              "   tmdbId                                           metadata  year  month  day  \n",
              "0   862.0  Toy Story (1995) Adventure|Animation|Children|...  2000      7   30  \n",
              "1   862.0  Toy Story (1995) Adventure|Animation|Children|...  2000      7   30  \n",
              "2   862.0  Toy Story (1995) Adventure|Animation|Children|...  2000      7   30  \n",
              "3   862.0  Toy Story (1995) Adventure|Animation|Children|...  1996     11    8  \n",
              "4   862.0  Toy Story (1995) Adventure|Animation|Children|...  1996     11    8  "
            ]
          },
          "execution_count": 16,
          "metadata": {},
          "output_type": "execute_result"
        }
      ],
      "source": [
        "data.head()"
      ]
    },
    {
      "cell_type": "code",
      "execution_count": 17,
      "metadata": {
        "id": "3XyK7cfEvDe3"
      },
      "outputs": [],
      "source": [
        "# unique datset preprocessing operation\n",
        "data.drop_duplicates(inplace=True)"
      ]
    },
    {
      "cell_type": "code",
      "execution_count": 18,
      "metadata": {
        "colab": {
          "base_uri": "https://localhost:8080/",
          "height": 347
        },
        "id": "y-DmC7W2vP9b",
        "outputId": "07d1d479-ecd2-4ad7-9bda-e1d962f2fe04"
      },
      "outputs": [
        {
          "data": {
            "text/html": [
              "<div>\n",
              "<style scoped>\n",
              "    .dataframe tbody tr th:only-of-type {\n",
              "        vertical-align: middle;\n",
              "    }\n",
              "\n",
              "    .dataframe tbody tr th {\n",
              "        vertical-align: top;\n",
              "    }\n",
              "\n",
              "    .dataframe thead th {\n",
              "        text-align: right;\n",
              "    }\n",
              "</style>\n",
              "<table border=\"1\" class=\"dataframe\">\n",
              "  <thead>\n",
              "    <tr style=\"text-align: right;\">\n",
              "      <th></th>\n",
              "      <th>userId_x</th>\n",
              "      <th>movieId</th>\n",
              "      <th>rating</th>\n",
              "      <th>timestamp_x</th>\n",
              "      <th>title</th>\n",
              "      <th>genres</th>\n",
              "      <th>userId_y</th>\n",
              "      <th>tag</th>\n",
              "      <th>imdbId</th>\n",
              "      <th>tmdbId</th>\n",
              "      <th>metadata</th>\n",
              "      <th>year</th>\n",
              "      <th>month</th>\n",
              "      <th>day</th>\n",
              "    </tr>\n",
              "  </thead>\n",
              "  <tbody>\n",
              "    <tr>\n",
              "      <th>0</th>\n",
              "      <td>1</td>\n",
              "      <td>1</td>\n",
              "      <td>4.0</td>\n",
              "      <td>2000-07-30 18:45:03</td>\n",
              "      <td>Toy Story (1995)</td>\n",
              "      <td>Adventure|Animation|Children|Comedy|Fantasy</td>\n",
              "      <td>336</td>\n",
              "      <td>pixar</td>\n",
              "      <td>114709</td>\n",
              "      <td>862.0</td>\n",
              "      <td>Toy Story (1995) Adventure|Animation|Children|...</td>\n",
              "      <td>2000</td>\n",
              "      <td>7</td>\n",
              "      <td>30</td>\n",
              "    </tr>\n",
              "    <tr>\n",
              "      <th>1</th>\n",
              "      <td>1</td>\n",
              "      <td>1</td>\n",
              "      <td>4.0</td>\n",
              "      <td>2000-07-30 18:45:03</td>\n",
              "      <td>Toy Story (1995)</td>\n",
              "      <td>Adventure|Animation|Children|Comedy|Fantasy</td>\n",
              "      <td>474</td>\n",
              "      <td>pixar</td>\n",
              "      <td>114709</td>\n",
              "      <td>862.0</td>\n",
              "      <td>Toy Story (1995) Adventure|Animation|Children|...</td>\n",
              "      <td>2000</td>\n",
              "      <td>7</td>\n",
              "      <td>30</td>\n",
              "    </tr>\n",
              "    <tr>\n",
              "      <th>2</th>\n",
              "      <td>1</td>\n",
              "      <td>1</td>\n",
              "      <td>4.0</td>\n",
              "      <td>2000-07-30 18:45:03</td>\n",
              "      <td>Toy Story (1995)</td>\n",
              "      <td>Adventure|Animation|Children|Comedy|Fantasy</td>\n",
              "      <td>567</td>\n",
              "      <td>fun</td>\n",
              "      <td>114709</td>\n",
              "      <td>862.0</td>\n",
              "      <td>Toy Story (1995) Adventure|Animation|Children|...</td>\n",
              "      <td>2000</td>\n",
              "      <td>7</td>\n",
              "      <td>30</td>\n",
              "    </tr>\n",
              "    <tr>\n",
              "      <th>3</th>\n",
              "      <td>5</td>\n",
              "      <td>1</td>\n",
              "      <td>4.0</td>\n",
              "      <td>1996-11-08 06:36:02</td>\n",
              "      <td>Toy Story (1995)</td>\n",
              "      <td>Adventure|Animation|Children|Comedy|Fantasy</td>\n",
              "      <td>336</td>\n",
              "      <td>pixar</td>\n",
              "      <td>114709</td>\n",
              "      <td>862.0</td>\n",
              "      <td>Toy Story (1995) Adventure|Animation|Children|...</td>\n",
              "      <td>1996</td>\n",
              "      <td>11</td>\n",
              "      <td>8</td>\n",
              "    </tr>\n",
              "    <tr>\n",
              "      <th>4</th>\n",
              "      <td>5</td>\n",
              "      <td>1</td>\n",
              "      <td>4.0</td>\n",
              "      <td>1996-11-08 06:36:02</td>\n",
              "      <td>Toy Story (1995)</td>\n",
              "      <td>Adventure|Animation|Children|Comedy|Fantasy</td>\n",
              "      <td>474</td>\n",
              "      <td>pixar</td>\n",
              "      <td>114709</td>\n",
              "      <td>862.0</td>\n",
              "      <td>Toy Story (1995) Adventure|Animation|Children|...</td>\n",
              "      <td>1996</td>\n",
              "      <td>11</td>\n",
              "      <td>8</td>\n",
              "    </tr>\n",
              "  </tbody>\n",
              "</table>\n",
              "</div>"
            ],
            "text/plain": [
              "   userId_x  movieId  rating         timestamp_x             title  \\\n",
              "0         1        1     4.0 2000-07-30 18:45:03  Toy Story (1995)   \n",
              "1         1        1     4.0 2000-07-30 18:45:03  Toy Story (1995)   \n",
              "2         1        1     4.0 2000-07-30 18:45:03  Toy Story (1995)   \n",
              "3         5        1     4.0 1996-11-08 06:36:02  Toy Story (1995)   \n",
              "4         5        1     4.0 1996-11-08 06:36:02  Toy Story (1995)   \n",
              "\n",
              "                                        genres  userId_y    tag  imdbId  \\\n",
              "0  Adventure|Animation|Children|Comedy|Fantasy       336  pixar  114709   \n",
              "1  Adventure|Animation|Children|Comedy|Fantasy       474  pixar  114709   \n",
              "2  Adventure|Animation|Children|Comedy|Fantasy       567    fun  114709   \n",
              "3  Adventure|Animation|Children|Comedy|Fantasy       336  pixar  114709   \n",
              "4  Adventure|Animation|Children|Comedy|Fantasy       474  pixar  114709   \n",
              "\n",
              "   tmdbId                                           metadata  year  month  day  \n",
              "0   862.0  Toy Story (1995) Adventure|Animation|Children|...  2000      7   30  \n",
              "1   862.0  Toy Story (1995) Adventure|Animation|Children|...  2000      7   30  \n",
              "2   862.0  Toy Story (1995) Adventure|Animation|Children|...  2000      7   30  \n",
              "3   862.0  Toy Story (1995) Adventure|Animation|Children|...  1996     11    8  \n",
              "4   862.0  Toy Story (1995) Adventure|Animation|Children|...  1996     11    8  "
            ]
          },
          "execution_count": 18,
          "metadata": {},
          "output_type": "execute_result"
        }
      ],
      "source": [
        "data.head()"
      ]
    },
    {
      "cell_type": "code",
      "execution_count": 19,
      "metadata": {
        "id": "JyXZxXPTvdsg"
      },
      "outputs": [],
      "source": [
        "# Cluster items using DBSCAN\n",
        "vectorizer = TfidfVectorizer()\n",
        "X = vectorizer.fit_transform(data['metadata'])\n",
        "dbscan = DBSCAN(eps=0.5, min_samples=5)"
      ]
    },
    {
      "cell_type": "code",
      "execution_count": null,
      "metadata": {
        "id": "MklzDfH8xB6z"
      },
      "outputs": [],
      "source": [
        "# For new item query:\n",
        "# a. Vectorize the query.\n",
        "# b. Add temporal feature.\n",
        "# c. Predict cluster.\n",
        "# d. Recommend items from the same cluster\n",
        "\n",
        "query = 'Toy Story'\n",
        "query_vector = vectorizer.transform([query])\n",
        "query_cluster = dbscan.fit_predict(query_vector)"
      ]
    }
  ],
  "metadata": {
    "colab": {
      "provenance": []
    },
    "kernelspec": {
      "display_name": "Python 3",
      "name": "python3"
    },
    "language_info": {
      "codemirror_mode": {
        "name": "ipython",
        "version": 3
      },
      "file_extension": ".py",
      "mimetype": "text/x-python",
      "name": "python",
      "nbconvert_exporter": "python",
      "pygments_lexer": "ipython3",
      "version": "3.9.13"
    }
  },
  "nbformat": 4,
  "nbformat_minor": 0
}
